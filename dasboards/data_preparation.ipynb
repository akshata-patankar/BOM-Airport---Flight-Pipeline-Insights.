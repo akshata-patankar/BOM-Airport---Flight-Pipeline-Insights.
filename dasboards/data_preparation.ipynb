{
 "cells": [
  {
   "cell_type": "code",
   "execution_count": 123,
   "id": "e2380816-87e2-4eb3-a921-594cfdaca705",
   "metadata": {},
   "outputs": [],
   "source": [
    "import pandas as pd\n",
    "import numpy as np\n",
    "import matplotlib.pyplot as plt\n",
    "import seaborn as sns"
   ]
  },
  {
   "cell_type": "code",
   "execution_count": 124,
   "id": "dabc872f-175b-464e-bdf0-5d6e0caea3f0",
   "metadata": {},
   "outputs": [
    {
     "data": {
      "text/html": [
       "<div>\n",
       "<style scoped>\n",
       "    .dataframe tbody tr th:only-of-type {\n",
       "        vertical-align: middle;\n",
       "    }\n",
       "\n",
       "    .dataframe tbody tr th {\n",
       "        vertical-align: top;\n",
       "    }\n",
       "\n",
       "    .dataframe thead th {\n",
       "        text-align: right;\n",
       "    }\n",
       "</style>\n",
       "<table border=\"1\" class=\"dataframe\">\n",
       "  <thead>\n",
       "    <tr style=\"text-align: right;\">\n",
       "      <th></th>\n",
       "      <th>status</th>\n",
       "      <th>type</th>\n",
       "      <th>airline.iataCode</th>\n",
       "      <th>airline.name</th>\n",
       "      <th>arrival.actualTime</th>\n",
       "      <th>arrival.delay</th>\n",
       "      <th>arrival.estimatedTime</th>\n",
       "      <th>arrival.iataCode</th>\n",
       "      <th>arrival.scheduledTime</th>\n",
       "      <th>departure.actualTime</th>\n",
       "      <th>...</th>\n",
       "      <th>flight_type</th>\n",
       "      <th>flight_duration</th>\n",
       "      <th>arrival.delay_missing</th>\n",
       "      <th>departure.delay_missing</th>\n",
       "      <th>arrival.actualTime_missing</th>\n",
       "      <th>departure.actualTime_missing</th>\n",
       "      <th>arrival.estimatedTime_missing</th>\n",
       "      <th>departure.estimatedTime_missing</th>\n",
       "      <th>flight_duration_missing</th>\n",
       "      <th>total_delay_missing</th>\n",
       "    </tr>\n",
       "  </thead>\n",
       "  <tbody>\n",
       "    <tr>\n",
       "      <th>0</th>\n",
       "      <td>active</td>\n",
       "      <td>departure</td>\n",
       "      <td>AI</td>\n",
       "      <td>Air India</td>\n",
       "      <td>NaN</td>\n",
       "      <td>NaN</td>\n",
       "      <td>NaN</td>\n",
       "      <td>DEL</td>\n",
       "      <td>2025-09-23 12:45:00</td>\n",
       "      <td>2025-09-23 11:04:00</td>\n",
       "      <td>...</td>\n",
       "      <td>Domestic</td>\n",
       "      <td>NaN</td>\n",
       "      <td>True</td>\n",
       "      <td>False</td>\n",
       "      <td>True</td>\n",
       "      <td>False</td>\n",
       "      <td>True</td>\n",
       "      <td>False</td>\n",
       "      <td>True</td>\n",
       "      <td>False</td>\n",
       "    </tr>\n",
       "    <tr>\n",
       "      <th>1</th>\n",
       "      <td>active</td>\n",
       "      <td>departure</td>\n",
       "      <td>BA</td>\n",
       "      <td>British Airways</td>\n",
       "      <td>NaN</td>\n",
       "      <td>NaN</td>\n",
       "      <td>NaN</td>\n",
       "      <td>TRV</td>\n",
       "      <td>2025-09-23 12:50:00</td>\n",
       "      <td>2025-09-23 11:22:00</td>\n",
       "      <td>...</td>\n",
       "      <td>Domestic</td>\n",
       "      <td>NaN</td>\n",
       "      <td>True</td>\n",
       "      <td>False</td>\n",
       "      <td>True</td>\n",
       "      <td>False</td>\n",
       "      <td>True</td>\n",
       "      <td>False</td>\n",
       "      <td>True</td>\n",
       "      <td>False</td>\n",
       "    </tr>\n",
       "    <tr>\n",
       "      <th>2</th>\n",
       "      <td>active</td>\n",
       "      <td>departure</td>\n",
       "      <td>VS</td>\n",
       "      <td>Virgin Atlantic</td>\n",
       "      <td>NaN</td>\n",
       "      <td>NaN</td>\n",
       "      <td>NaN</td>\n",
       "      <td>TRV</td>\n",
       "      <td>2025-09-23 12:50:00</td>\n",
       "      <td>2025-09-23 11:22:00</td>\n",
       "      <td>...</td>\n",
       "      <td>Domestic</td>\n",
       "      <td>NaN</td>\n",
       "      <td>True</td>\n",
       "      <td>False</td>\n",
       "      <td>True</td>\n",
       "      <td>False</td>\n",
       "      <td>True</td>\n",
       "      <td>False</td>\n",
       "      <td>True</td>\n",
       "      <td>False</td>\n",
       "    </tr>\n",
       "    <tr>\n",
       "      <th>3</th>\n",
       "      <td>active</td>\n",
       "      <td>departure</td>\n",
       "      <td>6E</td>\n",
       "      <td>IndiGo</td>\n",
       "      <td>NaN</td>\n",
       "      <td>NaN</td>\n",
       "      <td>NaN</td>\n",
       "      <td>TRV</td>\n",
       "      <td>2025-09-23 12:50:00</td>\n",
       "      <td>2025-09-23 11:22:00</td>\n",
       "      <td>...</td>\n",
       "      <td>Domestic</td>\n",
       "      <td>NaN</td>\n",
       "      <td>True</td>\n",
       "      <td>False</td>\n",
       "      <td>True</td>\n",
       "      <td>False</td>\n",
       "      <td>True</td>\n",
       "      <td>False</td>\n",
       "      <td>True</td>\n",
       "      <td>False</td>\n",
       "    </tr>\n",
       "    <tr>\n",
       "      <th>4</th>\n",
       "      <td>active</td>\n",
       "      <td>departure</td>\n",
       "      <td>6E</td>\n",
       "      <td>IndiGo</td>\n",
       "      <td>NaN</td>\n",
       "      <td>14.0</td>\n",
       "      <td>2025-09-23 12:53:00</td>\n",
       "      <td>TRZ</td>\n",
       "      <td>2025-09-23 12:40:00</td>\n",
       "      <td>2025-09-23 11:16:00</td>\n",
       "      <td>...</td>\n",
       "      <td>Domestic</td>\n",
       "      <td>NaN</td>\n",
       "      <td>False</td>\n",
       "      <td>False</td>\n",
       "      <td>True</td>\n",
       "      <td>False</td>\n",
       "      <td>False</td>\n",
       "      <td>False</td>\n",
       "      <td>True</td>\n",
       "      <td>False</td>\n",
       "    </tr>\n",
       "  </tbody>\n",
       "</table>\n",
       "<p>5 rows × 32 columns</p>\n",
       "</div>"
      ],
      "text/plain": [
       "   status       type airline.iataCode     airline.name arrival.actualTime  \\\n",
       "0  active  departure               AI        Air India                NaN   \n",
       "1  active  departure               BA  British Airways                NaN   \n",
       "2  active  departure               VS  Virgin Atlantic                NaN   \n",
       "3  active  departure               6E           IndiGo                NaN   \n",
       "4  active  departure               6E           IndiGo                NaN   \n",
       "\n",
       "   arrival.delay arrival.estimatedTime arrival.iataCode arrival.scheduledTime  \\\n",
       "0            NaN                   NaN              DEL   2025-09-23 12:45:00   \n",
       "1            NaN                   NaN              TRV   2025-09-23 12:50:00   \n",
       "2            NaN                   NaN              TRV   2025-09-23 12:50:00   \n",
       "3            NaN                   NaN              TRV   2025-09-23 12:50:00   \n",
       "4           14.0   2025-09-23 12:53:00              TRZ   2025-09-23 12:40:00   \n",
       "\n",
       "  departure.actualTime  ...  flight_type flight_duration  \\\n",
       "0  2025-09-23 11:04:00  ...     Domestic             NaN   \n",
       "1  2025-09-23 11:22:00  ...     Domestic             NaN   \n",
       "2  2025-09-23 11:22:00  ...     Domestic             NaN   \n",
       "3  2025-09-23 11:22:00  ...     Domestic             NaN   \n",
       "4  2025-09-23 11:16:00  ...     Domestic             NaN   \n",
       "\n",
       "  arrival.delay_missing departure.delay_missing arrival.actualTime_missing  \\\n",
       "0                  True                   False                       True   \n",
       "1                  True                   False                       True   \n",
       "2                  True                   False                       True   \n",
       "3                  True                   False                       True   \n",
       "4                 False                   False                       True   \n",
       "\n",
       "  departure.actualTime_missing arrival.estimatedTime_missing  \\\n",
       "0                        False                          True   \n",
       "1                        False                          True   \n",
       "2                        False                          True   \n",
       "3                        False                          True   \n",
       "4                        False                         False   \n",
       "\n",
       "   departure.estimatedTime_missing  flight_duration_missing  \\\n",
       "0                            False                     True   \n",
       "1                            False                     True   \n",
       "2                            False                     True   \n",
       "3                            False                     True   \n",
       "4                            False                     True   \n",
       "\n",
       "   total_delay_missing  \n",
       "0                False  \n",
       "1                False  \n",
       "2                False  \n",
       "3                False  \n",
       "4                False  \n",
       "\n",
       "[5 rows x 32 columns]"
      ]
     },
     "execution_count": 124,
     "metadata": {},
     "output_type": "execute_result"
    }
   ],
   "source": [
    "df=pd.read_csv(\"C:/Users/aksha/OneDrive/Desktop/Projects/flight_data/final_flights_flagged.csv\")\n",
    "df.head()"
   ]
  },
  {
   "cell_type": "code",
   "execution_count": 125,
   "id": "5944d5b2-45d5-41a0-8379-acc71c1013c3",
   "metadata": {},
   "outputs": [
    {
     "name": "stdout",
     "output_type": "stream",
     "text": [
      "<class 'pandas.core.frame.DataFrame'>\n",
      "RangeIndex: 1035 entries, 0 to 1034\n",
      "Data columns (total 32 columns):\n",
      " #   Column                           Non-Null Count  Dtype  \n",
      "---  ------                           --------------  -----  \n",
      " 0   status                           1035 non-null   object \n",
      " 1   type                             1035 non-null   object \n",
      " 2   airline.iataCode                 1035 non-null   object \n",
      " 3   airline.name                     1035 non-null   object \n",
      " 4   arrival.actualTime               248 non-null    object \n",
      " 5   arrival.delay                    107 non-null    float64\n",
      " 6   arrival.estimatedTime            549 non-null    object \n",
      " 7   arrival.iataCode                 1035 non-null   object \n",
      " 8   arrival.scheduledTime            1035 non-null   object \n",
      " 9   departure.actualTime             555 non-null    object \n",
      " 10  departure.delay                  561 non-null    float64\n",
      " 11  departure.estimatedTime          777 non-null    object \n",
      " 12  departure.iataCode               1035 non-null   object \n",
      " 13  departure.scheduledTime          1035 non-null   object \n",
      " 14  flight.iataNumber                1035 non-null   object \n",
      " 15  orig_country                     1032 non-null   object \n",
      " 16  dest_country                     1033 non-null   object \n",
      " 17  departure_hour                   1035 non-null   int64  \n",
      " 18  arrival_hour                     1035 non-null   int64  \n",
      " 19  departure_delay_flag             1035 non-null   bool   \n",
      " 20  arrival_delay_flag               1035 non-null   bool   \n",
      " 21  total_delay                      1035 non-null   float64\n",
      " 22  flight_type                      1035 non-null   object \n",
      " 23  flight_duration                  248 non-null    float64\n",
      " 24  arrival.delay_missing            1035 non-null   bool   \n",
      " 25  departure.delay_missing          1035 non-null   bool   \n",
      " 26  arrival.actualTime_missing       1035 non-null   bool   \n",
      " 27  departure.actualTime_missing     1035 non-null   bool   \n",
      " 28  arrival.estimatedTime_missing    1035 non-null   bool   \n",
      " 29  departure.estimatedTime_missing  1035 non-null   bool   \n",
      " 30  flight_duration_missing          1035 non-null   bool   \n",
      " 31  total_delay_missing              1035 non-null   bool   \n",
      "dtypes: bool(10), float64(4), int64(2), object(16)\n",
      "memory usage: 188.1+ KB\n"
     ]
    }
   ],
   "source": [
    "df.info()"
   ]
  },
  {
   "cell_type": "code",
   "execution_count": 126,
   "id": "1394a31e-4ef7-4886-90b8-5d06f466997a",
   "metadata": {},
   "outputs": [],
   "source": [
    "for col in ['arrival.scheduledTime', 'arrival.estimatedTime', 'arrival.actualTime',\n",
    "            'departure.scheduledTime', 'departure.estimatedTime', 'departure.actualTime']:\n",
    "    df[col] = pd.to_datetime(df[col], errors='coerce')"
   ]
  },
  {
   "cell_type": "code",
   "execution_count": 127,
   "id": "a6d3dc30-77a4-4463-90c9-87183664ef29",
   "metadata": {},
   "outputs": [],
   "source": [
    "df['arrival.estimatedTime'] = df['arrival.estimatedTime'].fillna(df['arrival.scheduledTime'])\n",
    "df['departure.estimatedTime'] = df['departure.estimatedTime'].fillna(df['departure.scheduledTime'])"
   ]
  },
  {
   "cell_type": "code",
   "execution_count": 128,
   "id": "2673c2e8-9ccf-41a3-8666-f59837c987b7",
   "metadata": {},
   "outputs": [],
   "source": [
    "df['arrival.actualTime'] = df['arrival.actualTime'].fillna(df['arrival.estimatedTime'])\n",
    "df['departure.actualTime'] = df['departure.actualTime'].fillna(df['departure.estimatedTime'])"
   ]
  },
  {
   "cell_type": "code",
   "execution_count": 129,
   "id": "16f2d489-38a2-4630-bd86-43cfced1e7e1",
   "metadata": {},
   "outputs": [],
   "source": [
    "df['arrival.delay'] = np.nan\n",
    "df['departure.delay'] = np.nan"
   ]
  },
  {
   "cell_type": "code",
   "execution_count": 130,
   "id": "7b04bc59-8621-4dd8-96b0-27639637a063",
   "metadata": {},
   "outputs": [],
   "source": [
    "# Arrival delay: calculate for arrival flights\n",
    "df.loc[df['type']=='arrival', 'arrival.delay'] = (\n",
    "    df.loc[df['type']=='arrival', 'arrival.actualTime'] - \n",
    "    df.loc[df['type']=='arrival', 'arrival.scheduledTime']\n",
    ").dt.total_seconds() / 60\n",
    "\n",
    "# Departure delay: calculate for departure flights\n",
    "df.loc[df['type']=='departure', 'departure.delay'] = (\n",
    "    df.loc[df['type']=='departure', 'departure.actualTime'] - \n",
    "    df.loc[df['type']=='departure', 'departure.scheduledTime']\n",
    ").dt.total_seconds() / 60"
   ]
  },
  {
   "cell_type": "code",
   "execution_count": 131,
   "id": "1037037e-b985-40b8-a245-d945ea3afa76",
   "metadata": {},
   "outputs": [],
   "source": [
    "df['total_delay'] = df['arrival.delay'].fillna(0) + df['departure.delay'].fillna(0)"
   ]
  },
  {
   "cell_type": "code",
   "execution_count": 132,
   "id": "f580a325-a1c8-4baa-ace1-163e5629d381",
   "metadata": {},
   "outputs": [],
   "source": [
    "df['flight_duration'] = None\n",
    "mask = df['arrival.actualTime'].notna() & df['departure.actualTime'].notna()\n",
    "df.loc[mask, 'flight_duration'] = (df.loc[mask, 'arrival.actualTime'] - df.loc[mask, 'departure.actualTime']).dt.total_seconds() / 60"
   ]
  },
  {
   "cell_type": "code",
   "execution_count": 133,
   "id": "d8bdd238-0794-4802-ab07-78b9cbb2e798",
   "metadata": {},
   "outputs": [
    {
     "data": {
      "text/plain": [
       "departure.delay_missing\n",
       "False    561\n",
       "True     474\n",
       "Name: count, dtype: int64"
      ]
     },
     "execution_count": 133,
     "metadata": {},
     "output_type": "execute_result"
    }
   ],
   "source": [
    "df['arrival.delay_missing'].value_counts()\n",
    "df['departure.delay_missing'].value_counts()"
   ]
  },
  {
   "cell_type": "code",
   "execution_count": 134,
   "id": "0d891a7f-260d-4b9d-80a9-b5d6c21e0dcf",
   "metadata": {},
   "outputs": [
    {
     "data": {
      "text/plain": [
       "type\n",
       "arrival      560\n",
       "departure    475\n",
       "Name: count, dtype: int64"
      ]
     },
     "execution_count": 134,
     "metadata": {},
     "output_type": "execute_result"
    }
   ],
   "source": [
    "df['type'].value_counts()"
   ]
  },
  {
   "cell_type": "code",
   "execution_count": 135,
   "id": "4938d46d-f55a-4e84-a2ad-92a4485a9f71",
   "metadata": {},
   "outputs": [
    {
     "name": "stdout",
     "output_type": "stream",
     "text": [
      "<class 'pandas.core.frame.DataFrame'>\n",
      "RangeIndex: 1035 entries, 0 to 1034\n",
      "Data columns (total 32 columns):\n",
      " #   Column                           Non-Null Count  Dtype         \n",
      "---  ------                           --------------  -----         \n",
      " 0   status                           1035 non-null   object        \n",
      " 1   type                             1035 non-null   object        \n",
      " 2   airline.iataCode                 1035 non-null   object        \n",
      " 3   airline.name                     1035 non-null   object        \n",
      " 4   arrival.actualTime               1035 non-null   datetime64[ns]\n",
      " 5   arrival.delay                    560 non-null    float64       \n",
      " 6   arrival.estimatedTime            1035 non-null   datetime64[ns]\n",
      " 7   arrival.iataCode                 1035 non-null   object        \n",
      " 8   arrival.scheduledTime            1035 non-null   datetime64[ns]\n",
      " 9   departure.actualTime             1035 non-null   datetime64[ns]\n",
      " 10  departure.delay                  475 non-null    float64       \n",
      " 11  departure.estimatedTime          1035 non-null   datetime64[ns]\n",
      " 12  departure.iataCode               1035 non-null   object        \n",
      " 13  departure.scheduledTime          1035 non-null   datetime64[ns]\n",
      " 14  flight.iataNumber                1035 non-null   object        \n",
      " 15  orig_country                     1032 non-null   object        \n",
      " 16  dest_country                     1033 non-null   object        \n",
      " 17  departure_hour                   1035 non-null   int64         \n",
      " 18  arrival_hour                     1035 non-null   int64         \n",
      " 19  departure_delay_flag             1035 non-null   bool          \n",
      " 20  arrival_delay_flag               1035 non-null   bool          \n",
      " 21  total_delay                      1035 non-null   float64       \n",
      " 22  flight_type                      1035 non-null   object        \n",
      " 23  flight_duration                  1035 non-null   object        \n",
      " 24  arrival.delay_missing            1035 non-null   bool          \n",
      " 25  departure.delay_missing          1035 non-null   bool          \n",
      " 26  arrival.actualTime_missing       1035 non-null   bool          \n",
      " 27  departure.actualTime_missing     1035 non-null   bool          \n",
      " 28  arrival.estimatedTime_missing    1035 non-null   bool          \n",
      " 29  departure.estimatedTime_missing  1035 non-null   bool          \n",
      " 30  flight_duration_missing          1035 non-null   bool          \n",
      " 31  total_delay_missing              1035 non-null   bool          \n",
      "dtypes: bool(10), datetime64[ns](6), float64(3), int64(2), object(11)\n",
      "memory usage: 188.1+ KB\n"
     ]
    }
   ],
   "source": [
    "df.info()"
   ]
  },
  {
   "cell_type": "code",
   "execution_count": 141,
   "id": "1c0c4bc6-73d0-4cbd-999a-e872e9dc7273",
   "metadata": {},
   "outputs": [
    {
     "data": {
      "image/png": "[encoded data removed]",
      "text/plain": [
       "<Figure size 1000x500 with 1 Axes>"
      ]
     },
     "metadata": {},
     "output_type": "display_data"
    }
   ],
   "source": [
    "plt.figure(figsize=(10,5))\n",
    "sns.histplot(df['total_delay'], bins=30, kde=True, color='orange')\n",
    "plt.title(\"Distribution of Total Delay (minutes)\")\n",
    "plt.xlabel(\"Total Delay\")\n",
    "plt.ylabel(\"Number of Flights\")\n",
    "plt.show()"
   ]
  },
  {
   "cell_type": "code",
   "execution_count": 137,
   "id": "3dedfed2-4ac4-46c5-aece-1f757a566aa6",
   "metadata": {},
   "outputs": [],
   "source": [
    "df['arrival_early_flag'] = df['arrival.delay'] < 0\n",
    "df['departure_early_flag'] = df['departure.delay'] < 0"
   ]
  },
  {
   "cell_type": "code",
   "execution_count": 139,
   "id": "a311e5dc-8d78-4355-b7e8-e355fddf1d6b",
   "metadata": {},
   "outputs": [],
   "source": [
    "total_flights = len(df)\n",
    "delayed_flights = (df['total_delay'] > 0).sum()\n",
    "early_flights = df['arrival_early_flag'].sum() + df['departure_early_flag'].sum()\n",
    "avg_delay = df['total_delay'].mean()\n",
    "max_delay = df['total_delay'].max()\n",
    "avg_duration = df['flight_duration'].mean()"
   ]
  },
  {
   "cell_type": "code",
   "execution_count": 140,
   "id": "3129c1ed-31c3-4882-9bd0-542f5d2aebc8",
   "metadata": {},
   "outputs": [
    {
     "name": "stdout",
     "output_type": "stream",
     "text": [
      "Total Flights: 1035\n",
      "Delayed Flights: 302\n",
      "Early Flights: 317\n",
      "Average Delay: 0.8 min\n",
      "Max Delay: 215.0 min\n",
      "Average Flight Duration: 134.9 min\n"
     ]
    }
   ],
   "source": [
    "print(f\"Total Flights: {total_flights}\")\n",
    "print(f\"Delayed Flights: {delayed_flights}\")\n",
    "print(f\"Early Flights: {early_flights}\")\n",
    "print(f\"Average Delay: {avg_delay:.1f} min\")\n",
    "print(f\"Max Delay: {max_delay:.1f} min\")\n",
    "print(f\"Average Flight Duration: {avg_duration:.1f} min\")"
   ]
  },
  {
   "cell_type": "code",
   "execution_count": 143,
   "id": "822a39cf-fa4b-4962-8ba1-eac044163dd8",
   "metadata": {},
   "outputs": [
    {
     "data": {
      "text/html": [
       "<div>\n",
       "<style scoped>\n",
       "    .dataframe tbody tr th:only-of-type {\n",
       "        vertical-align: middle;\n",
       "    }\n",
       "\n",
       "    .dataframe tbody tr th {\n",
       "        vertical-align: top;\n",
       "    }\n",
       "\n",
       "    .dataframe thead th {\n",
       "        text-align: right;\n",
       "    }\n",
       "</style>\n",
       "<table border=\"1\" class=\"dataframe\">\n",
       "  <thead>\n",
       "    <tr style=\"text-align: right;\">\n",
       "      <th></th>\n",
       "      <th>departure_hour</th>\n",
       "      <th>total_delay</th>\n",
       "    </tr>\n",
       "  </thead>\n",
       "  <tbody>\n",
       "    <tr>\n",
       "      <th>0</th>\n",
       "      <td>0</td>\n",
       "      <td>0.000000</td>\n",
       "    </tr>\n",
       "    <tr>\n",
       "      <th>1</th>\n",
       "      <td>5</td>\n",
       "      <td>-31.000000</td>\n",
       "    </tr>\n",
       "    <tr>\n",
       "      <th>2</th>\n",
       "      <td>6</td>\n",
       "      <td>-20.000000</td>\n",
       "    </tr>\n",
       "    <tr>\n",
       "      <th>3</th>\n",
       "      <td>7</td>\n",
       "      <td>-34.714286</td>\n",
       "    </tr>\n",
       "    <tr>\n",
       "      <th>4</th>\n",
       "      <td>8</td>\n",
       "      <td>-21.611111</td>\n",
       "    </tr>\n",
       "    <tr>\n",
       "      <th>5</th>\n",
       "      <td>9</td>\n",
       "      <td>-26.147059</td>\n",
       "    </tr>\n",
       "    <tr>\n",
       "      <th>6</th>\n",
       "      <td>10</td>\n",
       "      <td>-8.217391</td>\n",
       "    </tr>\n",
       "    <tr>\n",
       "      <th>7</th>\n",
       "      <td>11</td>\n",
       "      <td>10.304878</td>\n",
       "    </tr>\n",
       "    <tr>\n",
       "      <th>8</th>\n",
       "      <td>12</td>\n",
       "      <td>16.383333</td>\n",
       "    </tr>\n",
       "    <tr>\n",
       "      <th>9</th>\n",
       "      <td>13</td>\n",
       "      <td>5.808824</td>\n",
       "    </tr>\n",
       "    <tr>\n",
       "      <th>10</th>\n",
       "      <td>14</td>\n",
       "      <td>-0.775510</td>\n",
       "    </tr>\n",
       "    <tr>\n",
       "      <th>11</th>\n",
       "      <td>15</td>\n",
       "      <td>9.493827</td>\n",
       "    </tr>\n",
       "    <tr>\n",
       "      <th>12</th>\n",
       "      <td>16</td>\n",
       "      <td>1.218391</td>\n",
       "    </tr>\n",
       "    <tr>\n",
       "      <th>13</th>\n",
       "      <td>17</td>\n",
       "      <td>-2.382353</td>\n",
       "    </tr>\n",
       "    <tr>\n",
       "      <th>14</th>\n",
       "      <td>18</td>\n",
       "      <td>-0.042857</td>\n",
       "    </tr>\n",
       "    <tr>\n",
       "      <th>15</th>\n",
       "      <td>19</td>\n",
       "      <td>-0.816327</td>\n",
       "    </tr>\n",
       "    <tr>\n",
       "      <th>16</th>\n",
       "      <td>20</td>\n",
       "      <td>-0.437500</td>\n",
       "    </tr>\n",
       "    <tr>\n",
       "      <th>17</th>\n",
       "      <td>21</td>\n",
       "      <td>-0.461538</td>\n",
       "    </tr>\n",
       "    <tr>\n",
       "      <th>18</th>\n",
       "      <td>22</td>\n",
       "      <td>0.219512</td>\n",
       "    </tr>\n",
       "    <tr>\n",
       "      <th>19</th>\n",
       "      <td>23</td>\n",
       "      <td>1.250000</td>\n",
       "    </tr>\n",
       "  </tbody>\n",
       "</table>\n",
       "</div>"
      ],
      "text/plain": [
       "    departure_hour  total_delay\n",
       "0                0     0.000000\n",
       "1                5   -31.000000\n",
       "2                6   -20.000000\n",
       "3                7   -34.714286\n",
       "4                8   -21.611111\n",
       "5                9   -26.147059\n",
       "6               10    -8.217391\n",
       "7               11    10.304878\n",
       "8               12    16.383333\n",
       "9               13     5.808824\n",
       "10              14    -0.775510\n",
       "11              15     9.493827\n",
       "12              16     1.218391\n",
       "13              17    -2.382353\n",
       "14              18    -0.042857\n",
       "15              19    -0.816327\n",
       "16              20    -0.437500\n",
       "17              21    -0.461538\n",
       "18              22     0.219512\n",
       "19              23     1.250000"
      ]
     },
     "execution_count": 143,
     "metadata": {},
     "output_type": "execute_result"
    }
   ],
   "source": [
    "hourly_delay = df.groupby('departure_hour')['total_delay'].mean().reset_index()\n",
    "hourly_delay"
   ]
  },
  {
   "cell_type": "code",
   "execution_count": 144,
   "id": "2a8689b1-5695-4ae1-b18b-4f0b8f0c68b5",
   "metadata": {},
   "outputs": [
    {
     "data": {
      "text/plain": [
       "airline.name\n",
       "Delta Air Lines       11.666667\n",
       "Turkish Airlines      10.625000\n",
       "Ethiopian Airlines    10.333333\n",
       "Malaysia Airlines      6.428571\n",
       "Air India Express      5.360000\n",
       "Emirates               5.333333\n",
       "British Airways        4.621622\n",
       "American Airlines      4.500000\n",
       "Star Air               4.000000\n",
       "Vietnam Airlines       2.666667\n",
       "Name: total_delay, dtype: float64"
      ]
     },
     "execution_count": 144,
     "metadata": {},
     "output_type": "execute_result"
    }
   ],
   "source": [
    "top_airlines = df.groupby('airline.name')['total_delay'].mean().sort_values(ascending=False).head(10)\n",
    "top_airlines"
   ]
  },
  {
   "cell_type": "code",
   "execution_count": 147,
   "id": "00c4d3fd-a1a3-455c-9fc9-1fbb157c87c6",
   "metadata": {},
   "outputs": [
    {
     "name": "stdout",
     "output_type": "stream",
     "text": [
      "Early Flights: 317, Late Flights: 302, Exactly On_Time: 416\n"
     ]
    }
   ],
   "source": [
    "early_count = early_flights\n",
    "late_count = delayed_flights\n",
    "on_time = total_flights - (early_count + late_count)\n",
    "print(f\"Early Flights: {early_count}, Late Flights: {late_count}, Exactly On_Time: {on_time}\")"
   ]
  },
  {
   "cell_type": "code",
   "execution_count": 149,
   "id": "dc17875e-5dd1-4672-8a3d-32d504e3e68c",
   "metadata": {},
   "outputs": [],
   "source": [
    "df.to_csv(\"C:/Users/aksha/OneDrive/Desktop/Projects/flight_data/BOM_flights.csv\")"
   ]
  }
 ],
 "metadata": {
  "kernelspec": {
   "display_name": "Python 3 (ipykernel)",
   "language": "python",
   "name": "python3"
  },
  "language_info": {
   "codemirror_mode": {
    "name": "ipython",
    "version": 3
   },
   "file_extension": ".py",
   "mimetype": "text/x-python",
   "name": "python",
   "nbconvert_exporter": "python",
   "pygments_lexer": "ipython3",
   "version": "3.12.4"
  }
 },
 "nbformat": 4,
 "nbformat_minor": 5
}
